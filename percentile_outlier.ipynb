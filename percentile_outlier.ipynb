{
 "cells": [
  {
   "cell_type": "code",
   "execution_count": 1,
   "metadata": {},
   "outputs": [],
   "source": [
    "import findspark\n",
    "findspark.init()\n",
    "import pyspark\n",
    "from pyspark.sql.functions import *\n",
    "from pyspark.sql import SparkSession\n",
    "\n",
    "sc = pyspark.SparkContext(appName='Python Spark SQL basic example')\n",
    "\n",
    "spark = SparkSession \\\n",
    "    .builder \\\n",
    "    .appName(\"Python Spark SQL basic example\") \\\n",
    "    .config(\"spark.some.config.option\", \"some-value\") \\\n",
    "    .getOrCreate()"
   ]
  },
  {
   "cell_type": "code",
   "execution_count": 41,
   "metadata": {},
   "outputs": [],
   "source": [
    "import numpy as np"
   ]
  },
  {
   "cell_type": "code",
   "execution_count": 3,
   "metadata": {},
   "outputs": [],
   "source": [
    "iris = spark.read.csv(\"./datasets/iris.csv\", \n",
    "                    header=\"true\", \n",
    "                    inferSchema=\"true\")"
   ]
  },
  {
   "cell_type": "code",
   "execution_count": 38,
   "metadata": {},
   "outputs": [
    {
     "data": {
      "text/plain": [
       "[('setosa', (5.1,)), ('setosa', (4.9,)), ('setosa', (4.7,))]"
      ]
     },
     "execution_count": 38,
     "metadata": {},
     "output_type": "execute_result"
    }
   ],
   "source": [
    "iris.rdd.map(lambda x: (x[4], (x[0],),)).take(3)"
   ]
  },
  {
   "cell_type": "code",
   "execution_count": 44,
   "metadata": {},
   "outputs": [
    {
     "data": {
      "text/plain": [
       "[('virginica',\n",
       "  (6.3,\n",
       "   5.8,\n",
       "   7.1,\n",
       "   6.3,\n",
       "   6.5,\n",
       "   7.6,\n",
       "   4.9,\n",
       "   7.3,\n",
       "   6.7,\n",
       "   7.2,\n",
       "   6.5,\n",
       "   6.4,\n",
       "   6.8,\n",
       "   5.7,\n",
       "   5.8,\n",
       "   6.4,\n",
       "   6.5,\n",
       "   7.7,\n",
       "   7.7,\n",
       "   6.0,\n",
       "   6.9,\n",
       "   5.6,\n",
       "   7.7,\n",
       "   6.3,\n",
       "   6.7,\n",
       "   7.2,\n",
       "   6.2,\n",
       "   6.1,\n",
       "   6.4,\n",
       "   7.2,\n",
       "   7.4,\n",
       "   7.9,\n",
       "   6.4,\n",
       "   6.3,\n",
       "   6.1,\n",
       "   7.7,\n",
       "   6.3,\n",
       "   6.4,\n",
       "   6.0,\n",
       "   6.9,\n",
       "   6.7,\n",
       "   6.9,\n",
       "   5.8,\n",
       "   6.8,\n",
       "   6.7,\n",
       "   6.7,\n",
       "   6.3,\n",
       "   6.5,\n",
       "   6.2,\n",
       "   5.9))]"
      ]
     },
     "execution_count": 44,
     "metadata": {},
     "output_type": "execute_result"
    }
   ],
   "source": [
    "iris.rdd.map(lambda x: (x[4], (x[0],),))\\\n",
    ".reduceByKey(lambda a, b: a+b)\\\n",
    ".take(1)"
   ]
  },
  {
   "cell_type": "code",
   "execution_count": 58,
   "metadata": {},
   "outputs": [
    {
     "name": "stdout",
     "output_type": "stream",
     "text": [
      "+----------+------+\n",
      "|   Species|Amount|\n",
      "+----------+------+\n",
      "| virginica|   5.8|\n",
      "|versicolor|  5.38|\n",
      "+----------+------+\n",
      "\n"
     ]
    }
   ],
   "source": [
    "iris.rdd.map(lambda x: (x[4], (x[0],),))\\\n",
    ".reduceByKey(lambda a, b: a+b)\\\n",
    ".map(lambda x: (x[0], float(np.percentile(x[1], 10))))\\\n",
    ".filter(lambda x: x[1] >5)\\\n",
    ".toDF(['Species','Amount']).show()"
   ]
  }
 ],
 "metadata": {
  "kernelspec": {
   "display_name": "Python 3",
   "language": "python",
   "name": "python3"
  },
  "language_info": {
   "codemirror_mode": {
    "name": "ipython",
    "version": 3
   },
   "file_extension": ".py",
   "mimetype": "text/x-python",
   "name": "python",
   "nbconvert_exporter": "python",
   "pygments_lexer": "ipython3",
   "version": "3.5.2"
  }
 },
 "nbformat": 4,
 "nbformat_minor": 2
}
